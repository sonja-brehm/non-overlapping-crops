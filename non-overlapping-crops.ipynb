{
 "cells": [
  {
   "attachments": {},
   "cell_type": "markdown",
   "id": "c369dbb0",
   "metadata": {},
   "source": [
    "## Cut images into multiple patches\n",
    "This code cuts all images in a folder into non-overlapping patches with a minimum width of 1024, as illustrated in this example: \n",
    "\n",
    "<img src=\"img_example.png\" width=\"700\"/>"
   ]
  },
  {
   "cell_type": "code",
   "execution_count": 2,
   "id": "af698ab2",
   "metadata": {},
   "outputs": [],
   "source": [
    "import numpy as np\n",
    "from patchify import patchify\n",
    "from PIL import Image\n",
    "from math import trunc\n",
    "import glob"
   ]
  },
  {
   "cell_type": "code",
   "execution_count": 3,
   "id": "7d4b19cb",
   "metadata": {},
   "outputs": [],
   "source": [
    "## The code in this cell is from Binary Study (2021), 'How to load and visualize multiple images in python', link: https://www.youtube.com/watch?v=uGPqnPwr1JY\n",
    "## modified to use Image.open and create arrays\n",
    "\n",
    "#Load all images in the folder\n",
    "file = './data/Originals/*.jpg' #set the directory\n",
    "images = [Image.open(image) for image in glob.glob(file)]\n",
    "images = [np.asarray(image) for image in images]"
   ]
  },
  {
   "cell_type": "code",
   "execution_count": 4,
   "id": "7e3a7cfa",
   "metadata": {},
   "outputs": [],
   "source": [
    "count = 0\n",
    "min_patch_size = 1024\n",
    "for image in images:\n",
    "    #Calculating the size of the individual patches of this image (minimum width of 1024, but it should take into account the whole image and leave no rest)\n",
    "    img_width = image.shape[1] #for example: 2799\n",
    "    x = trunc(img_width/min_patch_size) #2799/1024 = 2.733 -> round it down to 2\n",
    "    patch_size = trunc(img_width/x) #2799/2 = 1399.5 -> round it down to 1399\n",
    "    \n",
    "    ## The following code is from Mattia Gatti (2022), 'How to split an Image into Patches with Python', link: https://levelup.gitconnected.com/how-to-split-an-image-into-patches-with-python-e1cf42cf4f77\n",
    "    ## modified to use the variable patch_size and count (so that it still works with multiple images) + Resize the patches before saving them\n",
    "    \n",
    "    # Create the patches and save them in another folder\n",
    "    patches = patchify(image, (patch_size, patch_size, 3), step=patch_size)\n",
    "    for i in range(patches.shape[0]):\n",
    "        for j in range(patches.shape[1]):\n",
    "            patch = patches[i, j, 0]\n",
    "            patch = Image.fromarray(patch)\n",
    "            patch = patch.resize((1024, 1024))\n",
    "            patch.save(f\"data/output/patch_{count}.jpg\") #output directory\n",
    "            count += 1"
   ]
  }
 ],
 "metadata": {
  "kernelspec": {
   "display_name": "Python 3 (ipykernel)",
   "language": "python",
   "name": "python3"
  },
  "language_info": {
   "codemirror_mode": {
    "name": "ipython",
    "version": 3
   },
   "file_extension": ".py",
   "mimetype": "text/x-python",
   "name": "python",
   "nbconvert_exporter": "python",
   "pygments_lexer": "ipython3",
   "version": "3.9.15"
  }
 },
 "nbformat": 4,
 "nbformat_minor": 5
}
